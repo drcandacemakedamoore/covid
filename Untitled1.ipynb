{
 "cells": [
  {
   "cell_type": "code",
   "execution_count": 1,
   "metadata": {},
   "outputs": [],
   "source": [
    "# step 1 is to load up the right libraries\n",
    "# although this can vary we will probably use pandas, numpy and matplotlib \n",
    "#for matplotib, let's not take the whole thing, just pyplot\n",
    "\n",
    "import pandas as pd\n",
    "import numpy as np\n",
    "import matplotlib.pyplot as plt\n",
    "import seaborn as sns"
   ]
  },
  {
   "cell_type": "code",
   "execution_count": 4,
   "metadata": {},
   "outputs": [
    {
     "data": {
      "text/plain": [
       "['Collecting processing',\n",
       " '  Downloading https://files.pythonhosted.org/packages/3b/2d/a6f17cc99d9c45c33eb3eccd6999505d9197b31f0845a845919032262a01/processing-0.52.zip (178kB)',\n",
       " '    Complete output from command python setup.py egg_info:',\n",
       " '    Traceback (most recent call last):',\n",
       " '      File \"<string>\", line 1, in <module>',\n",
       " '      File \"C:\\\\Users\\\\makeda\\\\AppData\\\\Local\\\\Temp\\\\pip-install-d9xys64g\\\\processing\\\\setup.py\", line 12',\n",
       " \"        raise ValueError, 'Versions of Python before 2.4 are not supported'\",\n",
       " '                        ^',\n",
       " '    SyntaxError: invalid syntax',\n",
       " '    ',\n",
       " '    ----------------------------------------',\n",
       " 'Command \"python setup.py egg_info\" failed with error code 1 in C:\\\\Users\\\\makeda\\\\AppData\\\\Local\\\\Temp\\\\pip-install-d9xys64g\\\\processing\\\\']"
      ]
     },
     "execution_count": 4,
     "metadata": {},
     "output_type": "execute_result"
    }
   ],
   "source": [
    "!!pip install processing\n"
   ]
  },
  {
   "cell_type": "code",
   "execution_count": null,
   "metadata": {},
   "outputs": [],
   "source": []
  }
 ],
 "metadata": {
  "kernelspec": {
   "display_name": "Python 3",
   "language": "python",
   "name": "python3"
  },
  "language_info": {
   "codemirror_mode": {
    "name": "ipython",
    "version": 3
   },
   "file_extension": ".py",
   "mimetype": "text/x-python",
   "name": "python",
   "nbconvert_exporter": "python",
   "pygments_lexer": "ipython3",
   "version": "3.7.1"
  }
 },
 "nbformat": 4,
 "nbformat_minor": 2
}
